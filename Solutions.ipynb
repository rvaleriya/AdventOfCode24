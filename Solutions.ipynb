{
 "cells": [
  {
   "cell_type": "code",
   "execution_count": 5,
   "metadata": {},
   "outputs": [],
   "source": [
    "import os\n",
    "import numpy as np\n",
    "from collections import Counter"
   ]
  },
  {
   "cell_type": "markdown",
   "metadata": {},
   "source": [
    "## Day 1: Historian Hysteria"
   ]
  },
  {
   "cell_type": "markdown",
   "metadata": {},
   "source": [
    "### Part 1"
   ]
  },
  {
   "cell_type": "code",
   "execution_count": 6,
   "metadata": {},
   "outputs": [
    {
     "name": "stdout",
     "output_type": "stream",
     "text": [
      "[[85215. 94333.]\n",
      " [24582. 34558.]\n",
      " [98037. 94333.]\n",
      " ...\n",
      " [18254. 32811.]\n",
      " [86817. 33438.]\n",
      " [78957. 74568.]]\n"
     ]
    }
   ],
   "source": [
    "# Get the current working directory\n",
    "base_path = os.getcwd()\n",
    "\n",
    "# Create the full file path\n",
    "file_path = os.path.join(base_path, \"Data\", \"input_Day1.txt\")\n",
    "\n",
    "# Load the file\n",
    "data = np.loadtxt(file_path)\n",
    "print(data)"
   ]
  },
  {
   "cell_type": "code",
   "execution_count": 7,
   "metadata": {},
   "outputs": [
    {
     "name": "stdout",
     "output_type": "stream",
     "text": [
      "1319616.0\n"
     ]
    }
   ],
   "source": [
    "left_col = np.sort(data[:,0])\n",
    "right_col = np.sort(data[:,1])\n",
    "\n",
    "total_sum = np.sum(np.abs(right_col-left_col))\n",
    "print(total_sum)"
   ]
  },
  {
   "cell_type": "markdown",
   "metadata": {},
   "source": [
    "### Part 2"
   ]
  },
  {
   "cell_type": "code",
   "execution_count": 8,
   "metadata": {},
   "outputs": [
    {
     "name": "stdout",
     "output_type": "stream",
     "text": [
      "27267728.0\n"
     ]
    }
   ],
   "source": [
    "freq_right = Counter(right_col)\n",
    "sim_score = 0\n",
    "\n",
    "for num in left_col:\n",
    "    if num in freq_right:\n",
    "        sim_score += num*freq_right[num]\n",
    "\n",
    "print(sim_score)"
   ]
  }
 ],
 "metadata": {
  "kernelspec": {
   "display_name": "base",
   "language": "python",
   "name": "python3"
  },
  "language_info": {
   "codemirror_mode": {
    "name": "ipython",
    "version": 3
   },
   "file_extension": ".py",
   "mimetype": "text/x-python",
   "name": "python",
   "nbconvert_exporter": "python",
   "pygments_lexer": "ipython3",
   "version": "3.7.1"
  }
 },
 "nbformat": 4,
 "nbformat_minor": 2
}
